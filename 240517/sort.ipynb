{
 "cells": [
  {
   "cell_type": "markdown",
   "metadata": {},
   "source": [
    "# 排序算法"
   ]
  },
  {
   "cell_type": "markdown",
   "metadata": {},
   "source": [
    "## 1. 冒泡排序"
   ]
  },
  {
   "cell_type": "code",
   "execution_count": 1,
   "metadata": {},
   "outputs": [],
   "source": [
    "# 1. 冒泡排序\n",
    "def bubble_sort(arr):\n",
    "    n = len(arr)\n",
    "    for i in range(n):\n",
    "        for j in range(0, n-i-1):\n",
    "            if arr[j] > arr[j+1]:\n",
    "                arr[j], arr[j+1] = arr[j+1], arr[j]\n",
    "    return arr"
   ]
  },
  {
   "cell_type": "code",
   "execution_count": 2,
   "metadata": {},
   "outputs": [
    {
     "name": "stdout",
     "output_type": "stream",
     "text": [
      "[11, 12, 22, 25, 34, 64, 90]\n"
     ]
    }
   ],
   "source": [
    "arr1 = [64, 34, 25, 12, 22, 11, 90]\n",
    "print(bubble_sort(arr1))"
   ]
  },
  {
   "cell_type": "markdown",
   "metadata": {},
   "source": [
    "## 2. 选择排序"
   ]
  },
  {
   "cell_type": "code",
   "execution_count": 3,
   "metadata": {},
   "outputs": [],
   "source": [
    "# 2. 选择排序\n",
    "def selection_sort(arr):\n",
    "    n = len(arr)\n",
    "    for i in range(n):\n",
    "        min_index = i\n",
    "        for j in range(i+1, n):\n",
    "            if arr[j] < arr[min_index]:\n",
    "                min_index = j\n",
    "        arr[i], arr[min_index] = arr[min_index], arr[i]\n",
    "    return arr"
   ]
  },
  {
   "cell_type": "code",
   "execution_count": 4,
   "metadata": {},
   "outputs": [
    {
     "name": "stdout",
     "output_type": "stream",
     "text": [
      "[11, 12, 22, 25, 34, 64, 90]\n"
     ]
    }
   ],
   "source": [
    "arr2 = [64, 34, 25, 12, 22, 11, 90]\n",
    "print(selection_sort(arr2))"
   ]
  },
  {
   "cell_type": "markdown",
   "metadata": {},
   "source": [
    "## 3. 快速排序"
   ]
  },
  {
   "cell_type": "code",
   "execution_count": 5,
   "metadata": {},
   "outputs": [],
   "source": [
    "# 3. 快速排序\n",
    "def quick_sort(arr):\n",
    "    if len(arr) <= 1:\n",
    "        return arr\n",
    "    pivot = arr[len(arr) // 2]\n",
    "    left = [x for x in arr if x < pivot]\n",
    "    middle = [x for x in arr if x == pivot]\n",
    "    right = [x for x in arr if x > pivot]\n",
    "    return quick_sort(left) + middle + quick_sort(right)"
   ]
  },
  {
   "cell_type": "code",
   "execution_count": 6,
   "metadata": {},
   "outputs": [
    {
     "name": "stdout",
     "output_type": "stream",
     "text": [
      "[11, 12, 22, 25, 34, 64, 90]\n"
     ]
    }
   ],
   "source": [
    "arr3 = [64, 34, 25, 12, 22, 11, 90]\n",
    "print(quick_sort(arr3))"
   ]
  },
  {
   "cell_type": "markdown",
   "metadata": {},
   "source": [
    "## 4. 归并排序"
   ]
  },
  {
   "cell_type": "code",
   "execution_count": 9,
   "metadata": {},
   "outputs": [
    {
     "name": "stdout",
     "output_type": "stream",
     "text": [
      "current arr: [64, 34, 25, 12, 22, 90, 11]\n",
      "current arr: [64, 34, 25]\n",
      "current arr: [64]\n",
      "current arr: [34, 25]\n",
      "current arr: [34]\n",
      "current arr: [25]\n",
      "[25, 34]\n",
      "[25, 34, 64]\n",
      "current arr: [12, 22, 90, 11]\n",
      "current arr: [12, 22]\n",
      "current arr: [12]\n",
      "current arr: [22]\n",
      "[12, 22]\n",
      "current arr: [90, 11]\n",
      "current arr: [90]\n",
      "current arr: [11]\n",
      "[11, 90]\n",
      "[11, 12, 22, 90]\n",
      "[11, 12, 22, 25, 34, 64, 90]\n",
      "[11, 12, 22, 25, 34, 64, 90]\n"
     ]
    }
   ],
   "source": [
    "# 4. 归并排序\n",
    "def merge_sort(arr):\n",
    "\n",
    "    print(f'current arr: {arr}')\n",
    "    n = len(arr)\n",
    "    if n <= 1:\n",
    "        return arr\n",
    "    mid = n // 2\n",
    "\n",
    "    left = merge_sort(arr[:mid])\n",
    "    right = merge_sort(arr[mid:])\n",
    "\n",
    "    lp, rp = 0, 0\n",
    "    result = []\n",
    "\n",
    "    while lp < len(left) and rp < len(right):\n",
    "        if left[lp] < right[rp]:\n",
    "            result.append(left[lp])\n",
    "            lp += 1\n",
    "        else:\n",
    "            result.append(right[rp])\n",
    "            rp += 1\n",
    "\n",
    "    result += left[lp:]\n",
    "    result += right[rp:]\n",
    "\n",
    "    print(result)\n",
    "\n",
    "    return result\n",
    "\n",
    "arr4 = [64, 34, 25, 12, 22, 90, 11]\n",
    "print(merge_sort(arr4))"
   ]
  },
  {
   "cell_type": "code",
   "execution_count": 10,
   "metadata": {},
   "outputs": [
    {
     "name": "stdout",
     "output_type": "stream",
     "text": [
      "2\n",
      "2\n",
      "8\n",
      "1\n"
     ]
    }
   ],
   "source": [
    "# 268. 丢失的数字\n",
    "# 求[0,n]前n+1个数的和\n",
    "# 0 + 1 + 2 + ... + n = (n + 1) * (0 + n) / 2 = (n + 1) * n / 2\n",
    "\n",
    "def missingNumber(nums):\n",
    "    n = len(nums)\n",
    "    total = n * (n + 1) // 2\n",
    "    return total - sum(nums)\n",
    "\n",
    "nums = [3, 0, 1]\n",
    "print(missingNumber(nums))\n",
    "\n",
    "num = [0, 1]\n",
    "print(missingNumber(num))\n",
    "\n",
    "num = [9, 6, 4, 2, 3, 5, 7, 0, 1]\n",
    "print(missingNumber(num))\n",
    "\n",
    "num = [0]\n",
    "print(missingNumber(num))"
   ]
  },
  {
   "cell_type": "code",
   "execution_count": 11,
   "metadata": {},
   "outputs": [
    {
     "name": "stdout",
     "output_type": "stream",
     "text": [
      "3\n",
      "2\n",
      "5\n"
     ]
    }
   ],
   "source": [
    "import collections\n",
    "def majorityElement(nums):\n",
    "    counts = collections.Counter(nums)\n",
    "    return max(counts.keys(), key=counts.get)\n",
    "\n",
    "nums = [3, 2, 3]\n",
    "print(majorityElement(nums))\n",
    "# counts = {3: 2, 2: 1}\n",
    "\n",
    "nums = [2, 2, 1, 1, 1, 2, 2]\n",
    "print(majorityElement(nums))\n",
    "# counts = {2: 4, 1: 3}\n",
    "\n",
    "nums = [1,2,5,9,5,9,5,5,5]\n",
    "print(majorityElement(nums))\n",
    "# counts = {5: 5, 9: 2, 1: 1, 2: 1}\n",
    "\n"
   ]
  },
  {
   "cell_type": "code",
   "execution_count": 12,
   "metadata": {},
   "outputs": [
    {
     "name": "stdout",
     "output_type": "stream",
     "text": [
      "3\n",
      "2\n",
      "5\n"
     ]
    }
   ],
   "source": [
    "def majorityElement2(nums):\n",
    "    nums.sort()\n",
    "    return nums[len(nums) // 2]\n",
    "\n",
    "nums = [3, 2, 3]\n",
    "print(majorityElement2(nums))\n",
    "\n",
    "nums = [2, 2, 1, 1, 1, 2, 2]\n",
    "print(majorityElement2(nums))\n",
    "\n",
    "nums = [1,2,5,9,5,9,5,5,5]\n",
    "print(majorityElement2(nums))"
   ]
  },
  {
   "cell_type": "code",
   "execution_count": 14,
   "metadata": {},
   "outputs": [
    {
     "name": "stdout",
     "output_type": "stream",
     "text": [
      "3\n",
      "2\n",
      "5\n"
     ]
    }
   ],
   "source": [
    "def majorityElement3(nums):\n",
    "    count = 0\n",
    "    candidate = None\n",
    "\n",
    "    for num in nums:\n",
    "        if count == 0:\n",
    "            candidate = num\n",
    "        count += 1 if num == candidate else -1\n",
    "        # print(count, candidate)\n",
    "\n",
    "    return candidate\n",
    "\n",
    "\n",
    "nums = [3, 2, 3]\n",
    "print(majorityElement3(nums))\n",
    "\n",
    "nums = [2, 2, 1, 1, 1, 2, 2]\n",
    "print(majorityElement3(nums))\n",
    "\n",
    "nums = [1,2,5,9,5,9,5,5,5]\n",
    "print(majorityElement3(nums))"
   ]
  }
 ],
 "metadata": {
  "kernelspec": {
   "display_name": "mamba",
   "language": "python",
   "name": "python3"
  },
  "language_info": {
   "codemirror_mode": {
    "name": "ipython",
    "version": 3
   },
   "file_extension": ".py",
   "mimetype": "text/x-python",
   "name": "python",
   "nbconvert_exporter": "python",
   "pygments_lexer": "ipython3",
   "version": "3.10.14"
  }
 },
 "nbformat": 4,
 "nbformat_minor": 2
}
