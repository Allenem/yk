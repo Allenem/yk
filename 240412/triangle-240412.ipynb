{
 "cells": [
  {
   "cell_type": "code",
   "execution_count": 2,
   "metadata": {},
   "outputs": [
    {
     "name": "stdout",
     "output_type": "stream",
     "text": [
      "                    \n",
      "         *         \n",
      "        ***        \n",
      "       *****       \n",
      "      *******      \n",
      "     *********     \n",
      "    ***********    \n",
      "   *************   \n",
      "  ***************  \n",
      " ***************** \n"
     ]
    }
   ],
   "source": [
    "row = 10\n",
    "column_per_row = 2 * row - 1\n",
    "for i in range(row):\n",
    "    starnum = i * 2 - 1\n",
    "    spacenumonside = (column_per_row - starnum) // 2\n",
    "    print(' ' * spacenumonside + '*' * starnum + ' ' * spacenumonside)"
   ]
  },
  {
   "cell_type": "code",
   "execution_count": 6,
   "metadata": {},
   "outputs": [
    {
     "name": "stdout",
     "output_type": "stream",
     "text": [
      "The rabbit number is:  4\n",
      "1 month rabbit number:  1\n",
      "2 month rabbit number:  1\n",
      "3 month rabbit number:  1\n",
      "elder rabbit number:  2\n"
     ]
    }
   ],
   "source": [
    "# 例5 rabbit number\n",
    "month = int(input('Please input the month: '))\n",
    "month1 = 1\n",
    "month2 = 0\n",
    "month3 = 0\n",
    "monthelder = 0\n",
    "\n",
    "for i in range(month):\n",
    "    # # 错误示范\n",
    "    # month1 = monthelder + month3\n",
    "    # month2 = month1\n",
    "    # month3 = month2\n",
    "    # monthelder = monthelder + month3\n",
    "\n",
    "    # # 正确示范1\n",
    "    # month1, month2, month3, monthelder = monthelder+month3, month1, month2, monthelder+month3\n",
    "\n",
    "    # 正确示范2\n",
    "    m1 = month1\n",
    "    m2 = month2\n",
    "    m3 = month3\n",
    "    melder = monthelder\n",
    "\n",
    "    month1 = melder + m3\n",
    "    month2 = m1\n",
    "    month3 = m2\n",
    "    monthelder = melder + m3\n",
    "\n",
    "print('The rabbit number is: ', month1 + month2 + month3 + monthelder)\n",
    "print('1 month rabbit number: ', month1)\n",
    "print('2 month rabbit number: ', month2)\n",
    "print('3 month rabbit number: ', month3)\n",
    "print('elder rabbit number: ', monthelder + month3)\n",
    "\n",
    "# 5 month\n",
    "# 1 2 3 4 5 month\n",
    "\n",
    "# 1 0 0 0 0\n",
    "# 0 1 0 0 0\n",
    "# 1 0 1 0 0\n",
    "# 1 1 0 1 0\n",
    "# 1 1 1 0 1\n"
   ]
  },
  {
   "cell_type": "code",
   "execution_count": 7,
   "metadata": {},
   "outputs": [
    {
     "name": "stdout",
     "output_type": "stream",
     "text": [
      "101\n",
      "103\n",
      "107\n",
      "109\n",
      "113\n",
      "127\n",
      "131\n",
      "137\n",
      "139\n",
      "149\n",
      "151\n",
      "157\n",
      "163\n",
      "167\n",
      "173\n",
      "179\n",
      "181\n",
      "191\n",
      "193\n",
      "197\n",
      "199\n"
     ]
    }
   ],
   "source": [
    "# 例6 判断101-200之间有多少个素数\n",
    "import math\n",
    "\n",
    "for i in range(101, 201): # [101, 200]\n",
    "    flag = 0 # 0: 素数 1: 非素数\n",
    "    for j in range(2, round(math.sqrt(i)) + 1): # [2, √i]\n",
    "        if i % j == 0:\n",
    "            flag = 1 # 非素数\n",
    "            break\n",
    "    if flag:\n",
    "        continue\n",
    "    print(i)\n"
   ]
  },
  {
   "cell_type": "code",
   "execution_count": 8,
   "metadata": {},
   "outputs": [
    {
     "name": "stdout",
     "output_type": "stream",
     "text": [
      "101\n",
      "103\n",
      "107\n",
      "109\n",
      "113\n",
      "127\n",
      "131\n",
      "137\n",
      "139\n",
      "149\n",
      "151\n",
      "157\n",
      "163\n",
      "167\n",
      "173\n",
      "179\n",
      "181\n",
      "191\n",
      "193\n",
      "197\n",
      "199\n"
     ]
    }
   ],
   "source": [
    "import math\n",
    "\n",
    "for i in range(101, 201): # [101, 200]\n",
    "    for j in range(2, round(math.sqrt(i)) + 1): # [2, √i]\n",
    "        if i % j == 0: # 非素数\n",
    "            break\n",
    "    else:\n",
    "        print(i)"
   ]
  },
  {
   "cell_type": "code",
   "execution_count": 9,
   "metadata": {},
   "outputs": [
    {
     "name": "stdout",
     "output_type": "stream",
     "text": [
      "The prime factors of 100 are: 2 2 5 5 "
     ]
    }
   ],
   "source": [
    "# 例7 将一个整数分解质因数\n",
    "def prime_factors(n):\n",
    "    for i in range(2, n + 1):\n",
    "        if n % i == 0:\n",
    "            print(i, end=' ')\n",
    "            if n == i:\n",
    "                break\n",
    "            prime_factors(n // i)\n",
    "            break\n",
    "\n",
    "target = int(input('Please input an integer: '))\n",
    "print('The prime factors of', target, 'are: ', end='')\n",
    "prime_factors(target)\n"
   ]
  },
  {
   "cell_type": "code",
   "execution_count": 2,
   "metadata": {},
   "outputs": [
    {
     "name": "stdout",
     "output_type": "stream",
     "text": [
      "540 540 3\n"
     ]
    }
   ],
   "source": [
    "# crop image 3*3 and save\n",
    "import cv2\n",
    "import os\n",
    "import numpy as np\n",
    "\n",
    "imgpath = 'test.png'\n",
    "savefolder = './crop/'\n",
    "if not os.path.exists(savefolder):\n",
    "    os.makedirs(savefolder)\n",
    "\n",
    "img = cv2.imread(imgpath)\n",
    "rows, cols, ch = img.shape\n",
    "print(rows, cols, ch)\n",
    "for i in range(3):\n",
    "    for j in range(3):\n",
    "        crop = img[i * rows // 3: (i + 1) * rows // 3, j * cols // 3: (j + 1) * cols // 3]\n",
    "        cv2.imshow('crop', crop)\n",
    "        cv2.imwrite(savefolder + 'crop' + str(i) + str(j) + '.jpg', crop)\n",
    "        cv2.waitKey(0)\n",
    "cv2.destroyAllWindows()"
   ]
  }
 ],
 "metadata": {
  "kernelspec": {
   "display_name": "nlp1",
   "language": "python",
   "name": "python3"
  },
  "language_info": {
   "codemirror_mode": {
    "name": "ipython",
    "version": 3
   },
   "file_extension": ".py",
   "mimetype": "text/x-python",
   "name": "python",
   "nbconvert_exporter": "python",
   "pygments_lexer": "ipython3",
   "version": "3.10.14"
  }
 },
 "nbformat": 4,
 "nbformat_minor": 2
}
