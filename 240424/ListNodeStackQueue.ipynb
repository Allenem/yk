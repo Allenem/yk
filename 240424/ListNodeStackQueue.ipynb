{
 "cells": [
  {
   "cell_type": "markdown",
   "metadata": {},
   "source": [
    "## 1.链表"
   ]
  },
  {
   "cell_type": "code",
   "execution_count": 2,
   "metadata": {},
   "outputs": [
    {
     "name": "stdout",
     "output_type": "stream",
     "text": [
      "3\n",
      "2\n",
      "1\n"
     ]
    }
   ],
   "source": [
    "# 定义单向链表类\n",
    "class ListNode:\n",
    "    def __init__(self, x):\n",
    "        self.val = x\n",
    "        self.next = None\n",
    "\n",
    "\n",
    "# 定义反转链表函数\n",
    "def reverseList(head):\n",
    "    if not head:\n",
    "        return None\n",
    "    pre, cur = None, head\n",
    "    while cur:\n",
    "        tmp = cur.next # 1\n",
    "        cur.next = pre # 2\n",
    "        pre = cur      # 3\n",
    "        cur = tmp      # 4\n",
    "    return pre\n",
    "\n",
    "\n",
    "head = ListNode(1)\n",
    "head.next = ListNode(2)\n",
    "head.next.next = ListNode(3)\n",
    "\n",
    "# head = ListNode(1, ListNode(2, ListNode(3, None)))\n",
    "# 1->2->3->None\n",
    "\n",
    "# pre, cur = None, head\n",
    "# 1.tmp = cur.next = ListNode(2, ListNode(3, None))\n",
    "# 2.cur.next = pre = None, cur = head = ListNode(1, None)\n",
    "# 3.pre = cur = head = ListNode(1, None)\n",
    "# 4.cur = tmp = ListNode(2, ListNode(3, None))\n",
    "# None<-1     2->3->4->5->None\n",
    "\n",
    "# pre, cur = ListNode(1, None), ListNode(2, ListNode(3, None))\n",
    "# 1.tmp = cur.next = ListNode(3, None)\n",
    "# 2.cur.next = pre = ListNode(1, None), cur = ListNode(2, ListNode(1, None)), 2->3->None 变成 2->1->None\n",
    "# 3.pre = cur = ListNode(2, ListNode(1, None))\n",
    "# 4.cur = tmp = ListNode(3, None)\n",
    "# None<-1<-2     3->None\n",
    "\n",
    "# pre, cur = ListNode(2, ListNode(1, None)), ListNode(3, None)\n",
    "# 1.tmp = cur.next = None\n",
    "# 2.cur.next = pre = ListNode(2, ListNode(1, None)), cur = ListNode(3, ListNode(2, ListNode(1, None))), 3->None 变成 3->2->1->None\n",
    "# 3.pre = cur = ListNode(3, ListNode(2, ListNode(1, None)))\n",
    "# 4.cur = tmp = None\n",
    "# None<-1<-2<-3\n",
    "\n",
    "# pre, cur = ListNode(3, ListNode(2, ListNode(1, None))), None\n",
    "\n",
    "new_head = reverseList(head)\n",
    "while new_head:\n",
    "    print(new_head.val)\n",
    "    new_head = new_head.next\n",
    "\n"
   ]
  },
  {
   "cell_type": "markdown",
   "metadata": {},
   "source": [
    "## 2.栈"
   ]
  },
  {
   "cell_type": "code",
   "execution_count": 3,
   "metadata": {},
   "outputs": [
    {
     "name": "stdout",
     "output_type": "stream",
     "text": [
      "3\n",
      "2\n",
      "1\n"
     ]
    }
   ],
   "source": [
    "# first in last out\n",
    "stack = []\n",
    "stack.append(1)\n",
    "stack.append(2)\n",
    "stack.append(3)\n",
    "\n",
    "while stack:\n",
    "    print(stack.pop())\n"
   ]
  },
  {
   "cell_type": "markdown",
   "metadata": {},
   "source": [
    "## 3.队列"
   ]
  },
  {
   "cell_type": "code",
   "execution_count": 4,
   "metadata": {},
   "outputs": [
    {
     "name": "stdout",
     "output_type": "stream",
     "text": [
      "1\n",
      "2\n",
      "3\n"
     ]
    }
   ],
   "source": [
    "# first in first out\n",
    "queue = []\n",
    "queue.append(1)\n",
    "queue.append(2)\n",
    "queue.append(3)\n",
    "\n",
    "while queue:\n",
    "    print(queue.pop(0))"
   ]
  },
  {
   "cell_type": "code",
   "execution_count": null,
   "metadata": {},
   "outputs": [],
   "source": [
    "class stack:\n",
    "    def __init__(self):\n",
    "        self.stack = []\n",
    "\n",
    "    def push(self, x):\n",
    "        self.stack.append(x)\n",
    "\n",
    "    def pop(self):\n",
    "        return self.stack.pop()\n",
    "    \n",
    "    def top(self):\n",
    "        return self.stack[-1]\n",
    "    \n",
    "    def is_empty(self):\n",
    "        return len(self.stack) == 0"
   ]
  },
  {
   "cell_type": "code",
   "execution_count": null,
   "metadata": {},
   "outputs": [],
   "source": [
    "class queue:\n",
    "    def __init__(self):\n",
    "        self.queue = []\n",
    "\n",
    "    def push(self, x):\n",
    "        self.queue.append(x)\n",
    "\n",
    "    def pop(self):\n",
    "        return self.queue.pop(0)\n",
    "    \n",
    "    def front(self):\n",
    "        return self.queue[0]\n",
    "    \n",
    "    def is_empty(self):\n",
    "        return len(self.queue) == 0"
   ]
  }
 ],
 "metadata": {
  "kernelspec": {
   "display_name": "nlp1",
   "language": "python",
   "name": "python3"
  },
  "language_info": {
   "codemirror_mode": {
    "name": "ipython",
    "version": 3
   },
   "file_extension": ".py",
   "mimetype": "text/x-python",
   "name": "python",
   "nbconvert_exporter": "python",
   "pygments_lexer": "ipython3",
   "version": "3.10.14"
  }
 },
 "nbformat": 4,
 "nbformat_minor": 2
}
