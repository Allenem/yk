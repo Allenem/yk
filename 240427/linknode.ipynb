{
 "cells": [
  {
   "cell_type": "markdown",
   "metadata": {},
   "source": [
    "## 单链表的前插和后插"
   ]
  },
  {
   "cell_type": "code",
   "execution_count": 1,
   "metadata": {},
   "outputs": [],
   "source": [
    "class LNode:\n",
    "    def __init__(self, elem: int, next_: 'LNode' = None):\n",
    "        self.elem = elem\n",
    "        self.next = next_\n",
    "\n",
    "# LNode(elem=1, next_=LNode(elem=2, next_=LNode(elem=3, next_=LNode(elem=4, next_=LNode(elem=5, next_=None)))))\n",
    "# 1->2->3->4->5\n",
    "\n",
    "def printall(head):\n",
    "    cur = head\n",
    "    while cur != None:\n",
    "        print(cur.elem)\n",
    "        cur = cur.next"
   ]
  },
  {
   "cell_type": "code",
   "execution_count": 2,
   "metadata": {},
   "outputs": [
    {
     "name": "stdout",
     "output_type": "stream",
     "text": [
      "5\n",
      "4\n",
      "3\n",
      "2\n",
      "1\n"
     ]
    }
   ],
   "source": [
    "def insertToFront(head: LNode, elem: int) -> LNode:\n",
    "    return LNode(elem, head)\n",
    "\n",
    "head = None\n",
    "head = insertToFront(head, 1)\n",
    "head = insertToFront(head, 2)\n",
    "head = insertToFront(head, 3)\n",
    "head = insertToFront(head, 4)\n",
    "head = insertToFront(head, 5)\n",
    "\n",
    "# 5->4->3->2->1->None\n",
    "\n",
    "printall(head)"
   ]
  },
  {
   "cell_type": "code",
   "execution_count": 3,
   "metadata": {},
   "outputs": [
    {
     "name": "stdout",
     "output_type": "stream",
     "text": [
      "5\n",
      "4\n",
      "3\n",
      "2\n",
      "1\n",
      "6\n",
      "7\n",
      "8\n",
      "9\n",
      "10\n"
     ]
    }
   ],
   "source": [
    "def insertToTail(head: LNode, elem: int) -> LNode:\n",
    "    if head == None:\n",
    "        return LNode(elem)\n",
    "    cur = head\n",
    "    while cur.next != None:\n",
    "        cur = cur.next\n",
    "    cur.next = LNode(elem)\n",
    "    return head\n",
    "\n",
    "head = insertToTail(head, 6)\n",
    "head = insertToTail(head, 7)\n",
    "head = insertToTail(head, 8)\n",
    "head = insertToTail(head, 9)\n",
    "head = insertToTail(head, 10)\n",
    "\n",
    "# 5->4->3->2->1->6->7->8->9->10->None\n",
    "\n",
    "printall(head)"
   ]
  },
  {
   "cell_type": "markdown",
   "metadata": {},
   "source": [
    "## map"
   ]
  },
  {
   "cell_type": "markdown",
   "metadata": {},
   "source": [
    "### map 用法一\n",
    "\n",
    "```py\n",
    "map(function, list or tuple or dict or set or str)\n",
    "```\n",
    "\n",
    "- function: 函数\n",
    "- list or tuple or dict or set or str: 可迭代对象\n",
    "\n",
    "对于 list 或 tuple 或 dict 或 set 或 str 中的每一个元素，都会调用 function 函数，返回一个 map 对象。"
   ]
  },
  {
   "cell_type": "code",
   "execution_count": 4,
   "metadata": {},
   "outputs": [
    {
     "data": {
      "text/plain": [
       "<map at 0x25a921e96c0>"
      ]
     },
     "execution_count": 4,
     "metadata": {},
     "output_type": "execute_result"
    }
   ],
   "source": [
    "map(int, [1, 2, 3, 4, 5])\n",
    "# return an iterator"
   ]
  },
  {
   "cell_type": "code",
   "execution_count": 5,
   "metadata": {},
   "outputs": [
    {
     "data": {
      "text/plain": [
       "[1, 2, 3, 4, 5]"
      ]
     },
     "execution_count": 5,
     "metadata": {},
     "output_type": "execute_result"
    }
   ],
   "source": [
    "list(map(int, [1, 2, 3, 4, 5]))"
   ]
  },
  {
   "cell_type": "code",
   "execution_count": 6,
   "metadata": {},
   "outputs": [
    {
     "data": {
      "text/plain": [
       "[1, 2, 3, 4, 5, 6]"
      ]
     },
     "execution_count": 6,
     "metadata": {},
     "output_type": "execute_result"
    }
   ],
   "source": [
    "x = '123456'\n",
    "list(map(int, x))"
   ]
  },
  {
   "cell_type": "code",
   "execution_count": 7,
   "metadata": {},
   "outputs": [
    {
     "data": {
      "text/plain": [
       "['1', '2', '3', '4', '5', '6']"
      ]
     },
     "execution_count": 7,
     "metadata": {},
     "output_type": "execute_result"
    }
   ],
   "source": [
    "x = '123456'\n",
    "list(map(str, x))"
   ]
  },
  {
   "cell_type": "code",
   "execution_count": 8,
   "metadata": {},
   "outputs": [
    {
     "data": {
      "text/plain": [
       "['1', '2', '3']"
      ]
     },
     "execution_count": 8,
     "metadata": {},
     "output_type": "execute_result"
    }
   ],
   "source": [
    "x = 123\n",
    "list(map(str, str(x))) # 前一个str是对每一项进行操作，后一个str是对整体进行操作。操作顺序是从右往左"
   ]
  },
  {
   "cell_type": "markdown",
   "metadata": {},
   "source": [
    "## map 用法二\n",
    "\n",
    "```py\n",
    "map(function, list1, list2, ...)\n",
    "```\n",
    "\n",
    "- function: 函数\n",
    "- list1, list2, ...: 可迭代对象\n",
    "\n",
    "对于 list1 和 list2 中的每一个元素，都会调用 function 函数，返回一个 map 对象。"
   ]
  },
  {
   "cell_type": "code",
   "execution_count": 9,
   "metadata": {},
   "outputs": [
    {
     "data": {
      "text/plain": [
       "[5, 7, 9]"
      ]
     },
     "execution_count": 9,
     "metadata": {},
     "output_type": "execute_result"
    }
   ],
   "source": [
    "def add(x, y):\n",
    "    return x + y\n",
    "\n",
    "list(map(add, [1, 2, 3], [4, 5, 6]))"
   ]
  },
  {
   "cell_type": "code",
   "execution_count": 10,
   "metadata": {},
   "outputs": [
    {
     "data": {
      "text/plain": [
       "[5, 7, 9]"
      ]
     },
     "execution_count": 10,
     "metadata": {},
     "output_type": "execute_result"
    }
   ],
   "source": [
    "list(map(lambda x, y: x + y, [1, 2, 3], [4, 5, 6]))"
   ]
  },
  {
   "cell_type": "code",
   "execution_count": 11,
   "metadata": {},
   "outputs": [
    {
     "data": {
      "text/plain": [
       "[28, 80, 162]"
      ]
     },
     "execution_count": 11,
     "metadata": {},
     "output_type": "execute_result"
    }
   ],
   "source": [
    "list(map(lambda x, y, z: x * y * z, [1, 2, 3], [4, 5, 6], [7, 8, 9]))"
   ]
  },
  {
   "cell_type": "code",
   "execution_count": 12,
   "metadata": {},
   "outputs": [
    {
     "data": {
      "text/plain": [
       "[1, 4, 9, 16, 25]"
      ]
     },
     "execution_count": 12,
     "metadata": {},
     "output_type": "execute_result"
    }
   ],
   "source": [
    "list(map(lambda x: x * x, [1, 2, 3, 4, 5]))"
   ]
  },
  {
   "cell_type": "code",
   "execution_count": 14,
   "metadata": {},
   "outputs": [
    {
     "name": "stdout",
     "output_type": "stream",
     "text": [
      "1\n",
      "None\n",
      "2\n",
      "1\n",
      "3\n",
      "2\n",
      "4\n",
      "3\n",
      "5\n",
      "4\n",
      "---\n",
      "0\n",
      "None\n",
      "1\n",
      "0\n",
      "2\n",
      "1\n",
      "3\n",
      "2\n",
      "4\n",
      "3\n",
      "5\n",
      "4\n",
      "---\n",
      "0\n",
      "None\n",
      "1\n",
      "0\n",
      "2\n",
      "1\n",
      "3\n",
      "2\n",
      "4\n",
      "3\n",
      "5\n",
      "4\n",
      "6\n",
      "5\n"
     ]
    }
   ],
   "source": [
    "class DoubleNode:\n",
    "    def __init__(self, elem: int, prev: 'DoubleNode' = None, next_: 'DoubleNode' = None):\n",
    "        self.elem = elem\n",
    "        self.prev = prev\n",
    "        self.next = next_\n",
    "\n",
    "def printall(head):\n",
    "    cur = head\n",
    "    while cur != None:\n",
    "        print(cur.elem)\n",
    "        print(cur.prev.elem if cur.prev != None else None)\n",
    "        cur = cur.next\n",
    "\n",
    "# LNode(elem=1, next_=LNode(elem=2, next_=LNode(elem=3, next_=LNode(elem=4, next_=LNode(elem=5, next_=None)))))\n",
    "# 1->2->3->4->5\n",
    "\n",
    "\n",
    "#       1->2->3->4->5->None\n",
    "# None<-1<-2<-3<-4<-5\n",
    "\n",
    "def insertToFront(head: DoubleNode, elem: int) -> DoubleNode:\n",
    "    cur = DoubleNode(elem, None, head)\n",
    "    if head != None:\n",
    "        head.prev = cur\n",
    "    return cur\n",
    "\n",
    "#       0->1->2->3->4->5->None\n",
    "# None<-0<-1<-2<-3<-4<-5\n",
    "\n",
    "def insertToTail(head: DoubleNode, elem: int) -> DoubleNode:\n",
    "    if head == None:\n",
    "        return DoubleNode(elem)\n",
    "    cur = head\n",
    "    while cur.next != None:\n",
    "        cur = cur.next\n",
    "    cur.next = DoubleNode(elem, cur, None)\n",
    "    return head\n",
    "\n",
    "#       0->1->2->3->4->5->6->None\n",
    "# None<-0<-1<-2<-3<-4<-5<-6\n",
    "\n",
    "\n",
    "head = None\n",
    "head = insertToTail(head, 1)\n",
    "head = insertToTail(head, 2)\n",
    "head = insertToTail(head, 3)\n",
    "head = insertToTail(head, 4)\n",
    "head = insertToTail(head, 5)\n",
    "\n",
    "printall(head)\n",
    "print('---')\n",
    "\n",
    "head = insertToFront(head, 0)\n",
    "\n",
    "printall(head)\n",
    "print('---')\n",
    "\n",
    "head = insertToTail(head, 6)\n",
    "\n",
    "printall(head)\n"
   ]
  }
 ],
 "metadata": {
  "kernelspec": {
   "display_name": "nlp1",
   "language": "python",
   "name": "python3"
  },
  "language_info": {
   "codemirror_mode": {
    "name": "ipython",
    "version": 3
   },
   "file_extension": ".py",
   "mimetype": "text/x-python",
   "name": "python",
   "nbconvert_exporter": "python",
   "pygments_lexer": "ipython3",
   "version": "3.10.14"
  }
 },
 "nbformat": 4,
 "nbformat_minor": 2
}
