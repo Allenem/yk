{
 "cells": [
  {
   "cell_type": "code",
   "execution_count": 1,
   "metadata": {},
   "outputs": [
    {
     "name": "stdout",
     "output_type": "stream",
     "text": [
      "[1, 2, 3, 5, 4, 7, 8]\n"
     ]
    }
   ],
   "source": [
    "li = [1,2,1,2,3,5,4,3,5,7,4,7,8]\n",
    "\n",
    "def delduplicated(li):\n",
    "    see=dict()\n",
    "    ans=list()\n",
    "    for it in li:\n",
    "        if see.get(it,0)==0:\n",
    "            ans.append(it)\n",
    "            see[it]=1\n",
    "    return ans\n",
    "\n",
    "print(delduplicated(li))"
   ]
  },
  {
   "cell_type": "code",
   "execution_count": 2,
   "metadata": {},
   "outputs": [
    {
     "name": "stdout",
     "output_type": "stream",
     "text": [
      "[1, 2, 3, 5, 4, 7, 8]\n",
      "key: 1, value: 2\n",
      "key: 2, value: 2\n",
      "key: 3, value: 2\n",
      "key: 5, value: 2\n",
      "key: 4, value: 2\n",
      "key: 7, value: 2\n",
      "key: 8, value: 1\n"
     ]
    }
   ],
   "source": [
    "import collections\n",
    "\n",
    "li = [1,2,1,2,3,5,4,3,5,7,4,7,8]\n",
    "\n",
    "def delduplicated(li):\n",
    "    see = collections.defaultdict(int)\n",
    "    ans = list()\n",
    "    for it in li:\n",
    "        if see[it] == 0:\n",
    "            ans.append(it)\n",
    "            see[it] = 1\n",
    "        else:\n",
    "            see[it] += 1\n",
    "    return ans, see\n",
    "\n",
    "a, s = delduplicated(li)\n",
    "print(a)\n",
    "for k,v in s.items():\n",
    "    print(f'key: {k}, value: {v}')"
   ]
  },
  {
   "cell_type": "code",
   "execution_count": null,
   "metadata": {},
   "outputs": [],
   "source": [
    "# 第三大的数\n",
    "\n",
    "l1 = [3, 2, 1]\n",
    "l2 = [1, 2]\n",
    "l3 = [2, 2, 3, 1]\n",
    "\n",
    "def thirdMax(nums):\n",
    "    nums = list(set(nums))\n",
    "    if len(nums) < 3:\n",
    "        return max(nums)\n",
    "    nums.sort()\n",
    "    return nums[-3]\n",
    "\n",
    "print(thirdMax(l1))\n",
    "print(thirdMax(l2))\n",
    "print(thirdMax(l3))"
   ]
  },
  {
   "cell_type": "code",
   "execution_count": 3,
   "metadata": {},
   "outputs": [
    {
     "name": "stdout",
     "output_type": "stream",
     "text": [
      "True\n",
      "True\n",
      "False\n"
     ]
    }
   ],
   "source": [
    "# 丑数\n",
    "# 丑数就是只包含质因数 2, 3, 5 的正整数。\n",
    "\n",
    "def isUgly(num):\n",
    "    if num <= 0:\n",
    "        return False\n",
    "    while num % 2 == 0:\n",
    "        num /= 2\n",
    "    while num % 3 == 0:\n",
    "        num /= 3\n",
    "    while num % 5 == 0:\n",
    "        num /= 5\n",
    "    return num == 1\n",
    "\n",
    "print(isUgly(6))\n",
    "print(isUgly(8))\n",
    "print(isUgly(14))"
   ]
  },
  {
   "cell_type": "code",
   "execution_count": 4,
   "metadata": {},
   "outputs": [
    {
     "name": "stdout",
     "output_type": "stream",
     "text": [
      "3\n",
      "3\n",
      "5\n",
      "7\n"
     ]
    }
   ],
   "source": [
    "# 分解质因数\n",
    "def primeFactors(n):\n",
    "    i = 2\n",
    "    while i * i <= n:\n",
    "        if n % i:\n",
    "            i += 1\n",
    "        else:\n",
    "            n //= i\n",
    "            print(i)\n",
    "    if n > 1:\n",
    "        print(n)\n",
    "\n",
    "primeFactors(315)"
   ]
  }
 ],
 "metadata": {
  "kernelspec": {
   "display_name": "mamba",
   "language": "python",
   "name": "python3"
  },
  "language_info": {
   "codemirror_mode": {
    "name": "ipython",
    "version": 3
   },
   "file_extension": ".py",
   "mimetype": "text/x-python",
   "name": "python",
   "nbconvert_exporter": "python",
   "pygments_lexer": "ipython3",
   "version": "3.10.14"
  }
 },
 "nbformat": 4,
 "nbformat_minor": 2
}
