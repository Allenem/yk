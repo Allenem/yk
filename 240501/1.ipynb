{
 "cells": [
  {
   "cell_type": "markdown",
   "metadata": {},
   "source": [
    "1.编写程序，判断列表 li=[1,2,3,4,2,3]是否包含重复的数据，若包含，则输出重复的数据。"
   ]
  },
  {
   "cell_type": "code",
   "execution_count": 1,
   "metadata": {},
   "outputs": [
    {
     "data": {
      "text/plain": [
       "[2, 2, 3, 2]"
      ]
     },
     "execution_count": 1,
     "metadata": {},
     "output_type": "execute_result"
    }
   ],
   "source": [
    "def returnRepeatedElements1(arr):\n",
    "    repeatedElements = []\n",
    "    for i in range(len(arr)):\n",
    "        for j in range(i+1, len(arr)):\n",
    "            if arr[i] == arr[j]:\n",
    "                repeatedElements.append(arr[i])\n",
    "    return repeatedElements\n",
    "\n",
    "returnRepeatedElements1([1, 2, 3, 2, 3, 2])"
   ]
  },
  {
   "cell_type": "code",
   "execution_count": 2,
   "metadata": {},
   "outputs": [
    {
     "data": {
      "text/plain": [
       "[2, 3, 2]"
      ]
     },
     "execution_count": 2,
     "metadata": {},
     "output_type": "execute_result"
    }
   ],
   "source": [
    "def returnRepeatedElements2(arr):\n",
    "    repeatedElements = []\n",
    "    for i in range(len(arr)):\n",
    "        for j in range(i+1, len(arr)):\n",
    "            if arr[i] == arr[j]:\n",
    "                repeatedElements.append(arr[i])\n",
    "                break\n",
    "    return repeatedElements\n",
    "\n",
    "returnRepeatedElements2([1, 2, 3, 2, 3, 2])"
   ]
  },
  {
   "cell_type": "code",
   "execution_count": 3,
   "metadata": {},
   "outputs": [
    {
     "data": {
      "text/plain": [
       "[2, 3]"
      ]
     },
     "execution_count": 3,
     "metadata": {},
     "output_type": "execute_result"
    }
   ],
   "source": [
    "def returnRepeatedElements3(arr):\n",
    "    repeatedElements = []\n",
    "    for i in range(len(arr)):\n",
    "        if arr[i] in repeatedElements: continue\n",
    "        for j in range(i+1, len(arr)):\n",
    "            if arr[i] == arr[j]:\n",
    "                repeatedElements.append(arr[i])\n",
    "                break\n",
    "    return repeatedElements\n",
    "\n",
    "returnRepeatedElements3([1, 2, 3, 2, 3, 2])"
   ]
  }
 ],
 "metadata": {
  "kernelspec": {
   "display_name": "nlp1",
   "language": "python",
   "name": "python3"
  },
  "language_info": {
   "codemirror_mode": {
    "name": "ipython",
    "version": 3
   },
   "file_extension": ".py",
   "mimetype": "text/x-python",
   "name": "python",
   "nbconvert_exporter": "python",
   "pygments_lexer": "ipython3",
   "version": "3.10.14"
  }
 },
 "nbformat": 4,
 "nbformat_minor": 2
}
