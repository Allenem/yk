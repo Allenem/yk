{
 "cells": [
  {
   "cell_type": "markdown",
   "metadata": {},
   "source": [
    "示例 1：\n",
    "\n",
    "输入：n = 19\n",
    "\n",
    "输出：true\n",
    "\n",
    "解释：\n",
    "\n",
    "```\n",
    "1^2 + 9^2 = 82\n",
    "8^2 + 2^2 = 68\n",
    "6^2 + 8^2 = 100\n",
    "1^2 + 0^2 + 0^2 = 1\n",
    "```\n",
    "\n",
    "示例 2：\n",
    "\n",
    "输入：n = 2\n",
    "\n",
    "输出：false"
   ]
  },
  {
   "cell_type": "markdown",
   "metadata": {},
   "source": [
    "**规律：** 最终循环回到 \"个位数 + 任意个0\"，而1~9中，快乐数只有 1 和 7"
   ]
  },
  {
   "cell_type": "markdown",
   "metadata": {},
   "source": [
    "1√\n",
    "\n",
    "2 4 16 1+36=37 9+49=58 25+64=89 64+81=145 1+16+25=42 16+4=20 ×\n",
    "\n",
    "3 9 81 64+1=65 36+25=61 36+1=37 9+49=58 25+64=89 64+81=145 1+16+25=42 16+4=20 ×\n",
    "\n",
    "4 16 1+36=37 9+49=58 25+64=89 64+81=145 1+16+25=42 16+4=20 ×\n",
    "\n",
    "5 25 4+25=29 4+81=85 64+25=89 64+81=145 1+16+25=42 16+4=20 ×\n",
    "\n",
    "6 36 9+36=45 16+25=41 16+1=17 49+64=113 1+16+25=42 16+4=20 ×\n",
    "\n",
    "7 49 16+81=97 81+49=130 1+9+0=10 1+0=1 √\n",
    "\n",
    "8 64 36+16=52 25+64=89 64+81=145 1+16+25=42 16+4=20 ×\n",
    "\n",
    "9 81 64+1=65 36+25=61 36+1=37 9+49=58 25+64=89 64+81=145 1+16+25=42 16+4=20 ×"
   ]
  },
  {
   "cell_type": "code",
   "execution_count": 1,
   "metadata": {},
   "outputs": [
    {
     "name": "stdout",
     "output_type": "stream",
     "text": [
      "True\n",
      "False\n"
     ]
    }
   ],
   "source": [
    "def isHappy(n: int) -> bool:\n",
    "    while True:\n",
    "        s = str(n).replace('0', '')\n",
    "        if s in ['1', '7']:\n",
    "            return True\n",
    "        if len(s) == 1:\n",
    "            return False\n",
    "        n = sum([int(x) ** 2 for x in s])\n",
    "\n",
    "\n",
    "# Testing\n",
    "print(isHappy(19))  # True\n",
    "print(isHappy(2))  # False"
   ]
  }
 ],
 "metadata": {
  "kernelspec": {
   "display_name": "nlp1",
   "language": "python",
   "name": "python3"
  },
  "language_info": {
   "codemirror_mode": {
    "name": "ipython",
    "version": 3
   },
   "file_extension": ".py",
   "mimetype": "text/x-python",
   "name": "python",
   "nbconvert_exporter": "python",
   "pygments_lexer": "ipython3",
   "version": "3.10.14"
  }
 },
 "nbformat": 4,
 "nbformat_minor": 2
}
