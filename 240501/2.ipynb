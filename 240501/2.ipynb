{
 "cells": [
  {
   "cell_type": "markdown",
   "metadata": {},
   "source": [
    "2.编写程序，将列表li=[2,5,3,4.6,3,2,5]中索引值为奇数的数字变成数字的平方，索引值为偶数的数字不变，并输出改变后的列表。"
   ]
  },
  {
   "cell_type": "code",
   "execution_count": 2,
   "metadata": {},
   "outputs": [
    {
     "data": {
      "text/plain": [
       "[1, 4, 3, 16, 5]"
      ]
     },
     "execution_count": 2,
     "metadata": {},
     "output_type": "execute_result"
    }
   ],
   "source": [
    "def changeOddNoChangeEven1(arr):\n",
    "    return [arr[i] ** 2 if i % 2 else arr[i] for i in range(len(arr))]\n",
    "    #       (    3    ) (   2   ) (    4   )  (  step 1             )\n",
    "\n",
    "changeOddNoChangeEven1([1, 2, 3, 4, 5]) # [1, 4, 3, 16, 5]"
   ]
  },
  {
   "cell_type": "code",
   "execution_count": 3,
   "metadata": {},
   "outputs": [
    {
     "data": {
      "text/plain": [
       "[1, 4, 3, 16, 5]"
      ]
     },
     "execution_count": 3,
     "metadata": {},
     "output_type": "execute_result"
    }
   ],
   "source": [
    "def changeOddNoChangeEven2(arr):\n",
    "    for i in range(len(arr)):\n",
    "        if i % 2:\n",
    "            arr[i] **= 2\n",
    "        else:\n",
    "            arr[i] = arr[i]\n",
    "    return arr\n",
    "\n",
    "changeOddNoChangeEven2([1, 2, 3, 4, 5]) # [1, 4, 3, 16, 5]"
   ]
  }
 ],
 "metadata": {
  "kernelspec": {
   "display_name": "nlp1",
   "language": "python",
   "name": "python3"
  },
  "language_info": {
   "codemirror_mode": {
    "name": "ipython",
    "version": 3
   },
   "file_extension": ".py",
   "mimetype": "text/x-python",
   "name": "python",
   "nbconvert_exporter": "python",
   "pygments_lexer": "ipython3",
   "version": "3.10.14"
  }
 },
 "nbformat": 4,
 "nbformat_minor": 2
}
