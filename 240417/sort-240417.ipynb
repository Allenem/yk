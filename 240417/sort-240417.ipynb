{
 "cells": [
  {
   "cell_type": "markdown",
   "metadata": {},
   "source": [
    "# 排序算法"
   ]
  },
  {
   "cell_type": "code",
   "execution_count": 1,
   "metadata": {},
   "outputs": [],
   "source": [
    "arr_org = [9, 5, 1, 2, 3]"
   ]
  },
  {
   "cell_type": "markdown",
   "metadata": {},
   "source": [
    "## 1.冒泡排序"
   ]
  },
  {
   "cell_type": "code",
   "execution_count": 2,
   "metadata": {},
   "outputs": [
    {
     "name": "stdout",
     "output_type": "stream",
     "text": [
      "[5, 9, 1, 2, 3]\n",
      "[1, 9, 5, 2, 3]\n",
      "[1, 9, 5, 2, 3]\n",
      "[1, 9, 5, 2, 3]\n",
      "[1, 5, 9, 2, 3]\n",
      "[1, 2, 9, 5, 3]\n",
      "[1, 2, 9, 5, 3]\n",
      "[1, 2, 5, 9, 3]\n",
      "[1, 2, 3, 9, 5]\n",
      "[1, 2, 3, 5, 9]\n",
      "[1, 2, 3, 5, 9]\n"
     ]
    }
   ],
   "source": [
    "# pop sort\n",
    "def pop_sort(arr):\n",
    "    for i in range(len(arr)):\n",
    "        for j in range(i+1, len(arr)):\n",
    "            if arr[i] > arr[j]:\n",
    "                arr[i], arr[j] = arr[j], arr[i]\n",
    "            print(arr)\n",
    "    return arr\n",
    "\n",
    "print(pop_sort(arr_org))"
   ]
  },
  {
   "cell_type": "markdown",
   "metadata": {},
   "source": [
    "## 2.选择排序"
   ]
  },
  {
   "cell_type": "code",
   "execution_count": 2,
   "metadata": {},
   "outputs": [
    {
     "name": "stdout",
     "output_type": "stream",
     "text": [
      "[1, 5, 9, 2, 3]\n",
      "[1, 2, 9, 5, 3]\n",
      "[1, 2, 3, 5, 9]\n",
      "[1, 2, 3, 5, 9]\n",
      "[1, 2, 3, 5, 9]\n",
      "[1, 2, 3, 5, 9]\n"
     ]
    }
   ],
   "source": [
    "arr_org = [9, 5, 1, 2, 3]\n",
    "# select sort\n",
    "def select_sort(arr):\n",
    "    for i in range(len(arr)):\n",
    "        min_index = i\n",
    "        for j in range(i+1, len(arr)):\n",
    "            if arr[min_index] > arr[j]:\n",
    "                min_index = j\n",
    "        arr[i], arr[min_index] = arr[min_index], arr[i]\n",
    "        print(arr)\n",
    "    return arr\n",
    "\n",
    "print(select_sort(arr_org))"
   ]
  },
  {
   "cell_type": "markdown",
   "metadata": {},
   "source": [
    "## 3.快速排序"
   ]
  },
  {
   "cell_type": "code",
   "execution_count": 4,
   "metadata": {},
   "outputs": [
    {
     "name": "stdout",
     "output_type": "stream",
     "text": [
      "[1, 2, 3, 5, 9]\n",
      "[1, 2, 3, 5, 9]\n"
     ]
    }
   ],
   "source": [
    "# quick sort\n",
    "def quick_sort(arr):\n",
    "    if len(arr) <= 1:\n",
    "        return arr\n",
    "    pivot = arr[len(arr) // 2]\n",
    "    left = [x for x in arr if x < pivot]\n",
    "    middle = [x for x in arr if x == pivot]\n",
    "    right = [x for x in arr if x > pivot]\n",
    "    return quick_sort(left) + middle + quick_sort(right)\n",
    "\n",
    "print(quick_sort(arr_org))\n",
    "\n",
    "def quick_sort2(arr):\n",
    "    if len(arr) <= 1:\n",
    "        return arr\n",
    "    pivot = arr[0]\n",
    "    left = [x for x in arr[1:] if x <= pivot]\n",
    "    right = [x for x in arr[1:] if x > pivot]\n",
    "    return quick_sort2(left) + [pivot] + quick_sort2(right)\n",
    "\n",
    "print(quick_sort2(arr_org))"
   ]
  },
  {
   "cell_type": "code",
   "execution_count": 3,
   "metadata": {},
   "outputs": [
    {
     "name": "stdout",
     "output_type": "stream",
     "text": [
      "[4, 5]\n",
      "[4, 5]\n"
     ]
    }
   ],
   "source": [
    "x = [1, 2, 3, 4, 5]\n",
    "\n",
    "y = [i for i in x if i > 3]\n",
    "print(y)\n",
    "\n",
    "z = []\n",
    "for i in x:\n",
    "    if i > 3:\n",
    "        z.append(i)\n",
    "print(z)"
   ]
  },
  {
   "cell_type": "code",
   "execution_count": 5,
   "metadata": {},
   "outputs": [
    {
     "name": "stdout",
     "output_type": "stream",
     "text": [
      "3\n",
      "-1\n",
      "0\n",
      "1\n",
      "2\n",
      "3\n"
     ]
    }
   ],
   "source": [
    "from typing import List\n",
    "class Solution:\n",
    "    def coinChange(self, coins: List[int], amount: int) -> int:\n",
    "        dp = [float('inf')] * (amount + 1)\n",
    "        dp[0] = 0\n",
    "        for coin in coins:\n",
    "            # 注意这里是顺序，倒序表示硬币不能重复使用，而顺序可以\n",
    "            for x in range(coin, amount+1):\n",
    "                dp[x] = min(dp[x], dp[x-coin] + 1)\n",
    "        return dp[amount] if dp[amount] != float('inf') else -1\n",
    "    \n",
    "coins = [1, 2, 5]\n",
    "amount = 11\n",
    "s = Solution()\n",
    "print(s.coinChange(coins, amount))\n",
    "\n",
    "coins = [2]\n",
    "amount = 3\n",
    "print(s.coinChange(coins, amount))\n",
    "\n",
    "coins = [1]\n",
    "amount = 0\n",
    "print(s.coinChange(coins, amount))\n",
    "\n",
    "coins = [1]\n",
    "amount = 1\n",
    "print(s.coinChange(coins, amount))\n",
    "\n",
    "coins = [1]\n",
    "amount = 2\n",
    "print(s.coinChange(coins, amount))\n",
    "\n",
    "coins = [1, 2, 5, 20]\n",
    "amount = 11\n",
    "print(s.coinChange(coins, amount))"
   ]
  },
  {
   "cell_type": "code",
   "execution_count": 6,
   "metadata": {},
   "outputs": [
    {
     "name": "stdout",
     "output_type": "stream",
     "text": [
      "0\n",
      "0\n"
     ]
    }
   ],
   "source": [
    "x = 1\n",
    "def test():\n",
    "    return x if x > 1 else 0\n",
    "def test2():\n",
    "    if x > 1:\n",
    "        return x\n",
    "    else:\n",
    "        return 0\n",
    "print(test())\n",
    "print(test2())"
   ]
  }
 ],
 "metadata": {
  "kernelspec": {
   "display_name": "nlp1",
   "language": "python",
   "name": "python3"
  },
  "language_info": {
   "codemirror_mode": {
    "name": "ipython",
    "version": 3
   },
   "file_extension": ".py",
   "mimetype": "text/x-python",
   "name": "python",
   "nbconvert_exporter": "python",
   "pygments_lexer": "ipython3",
   "version": "3.10.14"
  }
 },
 "nbformat": 4,
 "nbformat_minor": 2
}
